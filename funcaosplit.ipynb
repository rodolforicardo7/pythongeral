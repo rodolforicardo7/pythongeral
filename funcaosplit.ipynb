{
 "metadata": {
  "language_info": {
   "codemirror_mode": {
    "name": "ipython",
    "version": 3
   },
   "file_extension": ".py",
   "mimetype": "text/x-python",
   "name": "python",
   "nbconvert_exporter": "python",
   "pygments_lexer": "ipython3",
   "version": "3.7.6-final"
  },
  "orig_nbformat": 2,
  "kernelspec": {
   "name": "python37664bit5b53fecbb3db4575b47a36d18dc7df10",
   "display_name": "Python 3.7.6 64-bit"
  }
 },
 "nbformat": 4,
 "nbformat_minor": 2,
 "cells": [
  {
   "cell_type": "code",
   "execution_count": 6,
   "metadata": {
    "tags": []
   },
   "outputs": [
    {
     "output_type": "stream",
     "name": "stdout",
     "text": "16\n02\n1987\n"
    }
   ],
   "source": [
    "#Utilizando a Função SPLIT\n",
    "#Eu divido a minha string de acordo com o delimitador definido\n",
    "#No caso, selecionei a barra '/'\n",
    "dia, mes, ano = '16/02/1987'.split('/')\n",
    "\n",
    "print(dia)\n",
    "print(mes)\n",
    "print(ano)"
   ]
  },
  {
   "cell_type": "code",
   "execution_count": 7,
   "metadata": {
    "tags": []
   },
   "outputs": [
    {
     "output_type": "stream",
     "name": "stdout",
     "text": "16\n02\n1987\n"
    }
   ],
   "source": [
    "#Se eu escrevesse a data com ponto, daria certo?\n",
    "#Só precisa indicar o delimitador. '.'\n",
    "dia, mes, ano = '16.02.1987'.split('.')\n",
    "\n",
    "print(dia)\n",
    "print(mes)\n",
    "print(ano)"
   ]
  },
  {
   "cell_type": "code",
   "execution_count": null,
   "metadata": {},
   "outputs": [],
   "source": []
  }
 ]
}