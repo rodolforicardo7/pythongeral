{
 "cells": [
  {
   "cell_type": "code",
   "execution_count": 8,
   "metadata": {},
   "outputs": [],
   "source": [
    "planetas = ['Mercury', 'Venus', 'Earth', 'Mars', 'Jupiter', 'Saturn', 'Uranus', 'Neptune']"
   ]
  },
  {
   "cell_type": "markdown",
   "metadata": {},
   "source": [
    "Criada uma lista com os nomes dos planetas."
   ]
  },
  {
   "cell_type": "code",
   "execution_count": 9,
   "metadata": {},
   "outputs": [
    {
     "output_type": "execute_result",
     "data": {
      "text/plain": "['Venus', 'Earth', 'Mars']"
     },
     "metadata": {},
     "execution_count": 9
    }
   ],
   "source": [
    "planetas_curtos = [planeta for planeta in planetas if len(planeta) < 6]\n",
    "planetas_curtos\n",
    "# Perceba que dentro da lista tem o nome do planeta\n",
    "#Depois vem um for com um IF."
   ]
  },
  {
   "cell_type": "code",
   "execution_count": 10,
   "metadata": {},
   "outputs": [
    {
     "output_type": "execute_result",
     "data": {
      "text/plain": "['Mercury', 'Jupiter', 'Neptune']"
     },
     "metadata": {},
     "execution_count": 10
    }
   ],
   "source": [
    "planetas_longos = [planeta for planeta in planetas if len(planeta) > 6]\n",
    "planetas_longos\n",
    "#Aqui coloquei o if para planetas longos"
   ]
  },
  {
   "cell_type": "code",
   "execution_count": 12,
   "metadata": {},
   "outputs": [
    {
     "output_type": "execute_result",
     "data": {
      "text/plain": "['MERCURY', 'VENUS', 'EARTH', 'MARS', 'JUPITER', 'SATURN', 'URANUS', 'NEPTUNE']"
     },
     "metadata": {},
     "execution_count": 12
    }
   ],
   "source": [
    "gritodosplanetas = [planeta.upper() for planeta in planetas]\n",
    "gritodosplanetas\n",
    "# Adicionei o .UPPER para colocar os nomes em maísculo."
   ]
  },
  {
   "cell_type": "code",
   "execution_count": 14,
   "metadata": {},
   "outputs": [
    {
     "output_type": "execute_result",
     "data": {
      "text/plain": "['teste', 'teste', 'teste', 'teste', 'teste', 'teste', 'teste', 'teste']"
     },
     "metadata": {},
     "execution_count": 14
    }
   ],
   "source": [
    "['teste' for planeta in planetas]\n",
    "# Testei os valores com uma STRING antes\n",
    "#Veja que retornou a lista preenchida com o número de planetas\n",
    "# Porém com o valor da string."
   ]
  },
  {
   "cell_type": "code",
   "execution_count": null,
   "metadata": {},
   "outputs": [],
   "source": []
  }
 ],
 "metadata": {
  "language_info": {
   "codemirror_mode": {
    "name": "ipython",
    "version": 3
   },
   "file_extension": ".py",
   "mimetype": "text/x-python",
   "name": "python",
   "nbconvert_exporter": "python",
   "pygments_lexer": "ipython3",
   "version": "3.7.6-final"
  },
  "orig_nbformat": 2,
  "kernelspec": {
   "name": "python37664bit5b53fecbb3db4575b47a36d18dc7df10",
   "display_name": "Python 3.7.6 64-bit"
  }
 },
 "nbformat": 4,
 "nbformat_minor": 2
}